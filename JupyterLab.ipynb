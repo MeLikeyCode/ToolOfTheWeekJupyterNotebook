{
 "cells": [
  {
   "cell_type": "markdown",
   "metadata": {},
   "source": [
    "# Jupyter Lab Tutorial\n",
    "By Abdullah Aghazadah\n",
    "\n",
    "This tutorial was made as part of my [Tool of the Week](https://www.youtube.com/watch?v=NFJ0ud30mbA&list=PLMgDVIa0Pg8Uhyyv2UcxAeee9dmCAW-yl) video series on YouTube.\n",
    "Click [here](https://www.youtube.com/watch?v=NFJ0ud30mbA&list=PLMgDVIa0Pg8Uhyyv2UcxAeee9dmCAW-yl&index=1) to see the video for this particular tutorial."
   ]
  },
  {
   "cell_type": "markdown",
   "metadata": {},
   "source": [
    "## creating a code cell\n",
    "- Click the plus icon on the tool bar or press the `B` key on your keyboard to insert a code cell below the currently selected cell.\n",
    "- Type some code in the code cell.\n",
    "- Press `Ctrl+Enter` on your keyboard to run the code in the cell (or use the run button in the toolbar).\n",
    "- Notice the output of the cell is displayed below the cell."
   ]
  },
  {
   "cell_type": "code",
   "execution_count": 2,
   "metadata": {},
   "outputs": [
    {
     "name": "stdout",
     "output_type": "stream",
     "text": [
      "hello\n"
     ]
    }
   ],
   "source": [
    "print(\"hello\")"
   ]
  },
  {
   "cell_type": "markdown",
   "metadata": {},
   "source": [
    "## creating a markdown cell\n",
    "Markdown is a format for fancy plain text. The text looks good as a plain text but even better when rendered by a markdown renderer.\n",
    "\n",
    "To create a markdown cell\n",
    "- Create a regular code cell.\n",
    "- Change the cell type to markdown\n",
    "    - You can do this by\n",
    "        - using the tool bar above\n",
    "        - or pressing `m` on your keyboard when the cell is selected"
   ]
  },
  {
   "cell_type": "markdown",
   "metadata": {},
   "source": [
    "## markdown basics\n",
    "\n",
    "This cell shows you (by example) the basic elements of a markdown text.\n",
    "\n",
    "### this is a 3rd level heading\n",
    "#### this is a 4th level heading\n",
    "\n",
    "This is a paragraph.\n",
    "\n",
    "This is another paragraph.\n",
    "\n",
    "This is an unordered list:\n",
    "- item one\n",
    "- item two\n",
    "- item three\n",
    "\n",
    "This is an ordered list:\n",
    "1. item one\n",
    "2. item two\n",
    "3. item three\n",
    "\n",
    "This is how you put `inline` code.\n",
    "\n",
    "This is how you put an entire code block:\n",
    "\n",
    "~~~~~~~~~~~~~~~~~~~~~~~~.py\n",
    "print(\"hello\")\n",
    "print(\"there!\")\n",
    "~~~~~~~~~~~~~~~~~~~~~~~~\n",
    "\n",
    "This is how you [link](http://abdullahsnotes.com/).\n",
    "\n",
    "This is how you include an image:\n",
    "\n",
    "![alternate text](http://abdullahsnotes.com/wp-content/uploads/2018/12/me-300x300.jpg \"this text will appear when you hover over the image\")"
   ]
  },
  {
   "cell_type": "markdown",
   "metadata": {},
   "source": [
    "## plotting"
   ]
  },
  {
   "cell_type": "code",
   "execution_count": 10,
   "metadata": {},
   "outputs": [],
   "source": [
    "import matplotlib.pyplot as plt # import the plotting library\n",
    "\n",
    "# make sure plots appear inside the notebook\n",
    "%matplotlib inline"
   ]
  },
  {
   "cell_type": "code",
   "execution_count": 11,
   "metadata": {},
   "outputs": [
    {
     "data": {
      "image/png": "[encoded data removed]",
      "text/plain": [
       "<Figure size 432x288 with 1 Axes>"
      ]
     },
     "metadata": {
      "needs_background": "light"
     },
     "output_type": "display_data"
    }
   ],
   "source": [
    "plt.figure() # create a figure, set it as the \"current figure\"\n",
    "plt.plot([1,2,3,4],[1,2,3,4],label=\"line\") # plot a line on the \"current axes\" of the \"current figure\" (since the current figure doesn't have an axes, one will be created and set as the current one)\n",
    "plt.plot([1,2,3,4],[1,4,9,16],label=\"quadratic\") # plots another line on the current axes\n",
    "plt.legend() # shows a legen on the current axes\n",
    "plt.xlabel(\"x label\") # change the y label of the current axes\n",
    "plt.ylabel(\"y label\") # change the x label of the current axes\n",
    "plt.title(\"x vs y\") # change the title of the current axes\n",
    "plt.show() # show the figure"
   ]
  },
  {
   "cell_type": "markdown",
   "metadata": {},
   "source": [
    "## BONUS: widgets"
   ]
  },
  {
   "cell_type": "code",
   "execution_count": 12,
   "metadata": {},
   "outputs": [],
   "source": [
    "import ipywidgets as widgets # impor the widgets library"
   ]
  },
  {
   "cell_type": "code",
   "execution_count": 13,
   "metadata": {},
   "outputs": [
    {
     "data": {
      "application/vnd.jupyter.widget-view+json": {
       "model_id": "66b5134839234b93ae8d4e9943fcacb5",
       "version_major": 2,
       "version_minor": 0
      },
      "text/plain": [
       "Output()"
      ]
     },
     "metadata": {},
     "output_type": "display_data"
    }
   ],
   "source": [
    "# create an output widget.\n",
    "# an output widget can be used to display text, images, plots, etc (anything that the notebook can display)\n",
    "outputWidget = widgets.Output()\n",
    "outputWidget"
   ]
  },
  {
   "cell_type": "code",
   "execution_count": 14,
   "metadata": {},
   "outputs": [],
   "source": [
    "# create a call back function.\n",
    "# this function will:\n",
    "# - clear the output widget\n",
    "# - put whatever was passed into it, in the output widget\n",
    "def someFunction(data):\n",
    "    outputWidget.clear_output()\n",
    "    with outputWidget:\n",
    "        print(data.new)"
   ]
  },
  {
   "cell_type": "code",
   "execution_count": 15,
   "metadata": {},
   "outputs": [
    {
     "data": {
      "application/vnd.jupyter.widget-view+json": {
       "model_id": "a2af6c1bbb214cb3804006b3b9bfc85b",
       "version_major": 2,
       "version_minor": 0
      },
      "text/plain": [
       "IntSlider(value=0, max=10)"
      ]
     },
     "metadata": {},
     "output_type": "display_data"
    }
   ],
   "source": [
    "# create an input widget (more specifically an integer slider).\n",
    "sliderWidget = widgets.IntSlider(min=0,max=10,step=1)\n",
    "sliderWidget"
   ]
  },
  {
   "cell_type": "code",
   "execution_count": 16,
   "metadata": {},
   "outputs": [],
   "source": [
    "# attach callback to slider.\n",
    "# when slider is changed, new value is passed to call back (recall, our callback puts the new value in the output widget)\n",
    "sliderWidget.observe(someFunction,\"value\")"
   ]
  },
  {
   "cell_type": "code",
   "execution_count": 17,
   "metadata": {},
   "outputs": [
    {
     "data": {
      "application/vnd.jupyter.widget-view+json": {
       "model_id": "94a6e88cccaa4936812df2548ed16b47",
       "version_major": 2,
       "version_minor": 0
      },
      "text/plain": [
       "interactive(children=(IntSlider(value=0, description='x'), Output()), _dom_classes=('widget-interact',))"
      ]
     },
     "metadata": {},
     "output_type": "display_data"
    },
    {
     "data": {
      "text/plain": [
       "<function __main__.f(x)>"
      ]
     },
     "execution_count": 17,
     "metadata": {},
     "output_type": "execute_result"
    }
   ],
   "source": [
    "# all of the above is kind of tedius.\n",
    "# if you have a function that you want to \"link\" to an input widget (have it so that every time the input widget is messed with, the function gets called),\n",
    "# you can use the interact() function to do this easily.\n",
    "\n",
    "# define the function that you want to \"link\" with an input widget\n",
    "def f(x):\n",
    "    print(x)\n",
    "\n",
    "widgets.interact(f,x=widgets.IntSlider()) # use interact function to link it to an IntSlider"
   ]
  },
  {
   "cell_type": "code",
   "execution_count": null,
   "metadata": {},
   "outputs": [],
   "source": []
  }
 ],
 "metadata": {
  "kernelspec": {
   "display_name": "Python 3",
   "language": "python",
   "name": "python3"
  },
  "language_info": {
   "codemirror_mode": {
    "name": "ipython",
    "version": 3
   },
   "file_extension": ".py",
   "mimetype": "text/x-python",
   "name": "python",
   "nbconvert_exporter": "python",
   "pygments_lexer": "ipython3",
   "version": "3.6.6"
  }
 },
 "nbformat": 4,
 "nbformat_minor": 2
}
